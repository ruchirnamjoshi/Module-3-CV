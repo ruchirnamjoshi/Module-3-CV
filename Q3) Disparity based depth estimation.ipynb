{
 "cells": [
  {
   "cell_type": "code",
   "execution_count": 21,
   "id": "cf27ec23-17ab-41de-b6e2-45c31cdd7bd5",
   "metadata": {},
   "outputs": [],
   "source": [
    "import cv2\n",
    "import numpy as np"
   ]
  },
  {
   "cell_type": "code",
   "execution_count": 22,
   "id": "4d4407ca-6a49-4c2a-b38e-6067e512064c",
   "metadata": {},
   "outputs": [],
   "source": [
    "def load_images(image_path1, image_path2):\n",
    "    \"\"\"Load the two images.\"\"\"\n",
    "    img1 = cv2.imread(image_path1, cv2.IMREAD_GRAYSCALE)\n",
    "    img2 = cv2.imread(image_path2, cv2.IMREAD_GRAYSCALE)\n",
    "    if img1 is None or img2 is None:\n",
    "        raise ValueError(\"One of the images didn't load. Check file paths.\")\n",
    "    return img1, img2"
   ]
  },
  {
   "cell_type": "code",
   "execution_count": 23,
   "id": "03532a3e-05c9-4a95-a26e-e59cbe7e1950",
   "metadata": {},
   "outputs": [],
   "source": [
    "def detect_and_match_features(img1, img2):\n",
    "    \"\"\"Detect and match features between two images using ORB.\"\"\"\n",
    "    # Initiate ORB detector\n",
    "    orb = cv2.ORB_create()\n",
    "\n",
    "    # Find the keypoints and descriptors with ORB\n",
    "    kp1, des1 = orb.detectAndCompute(img1, None)\n",
    "    kp2, des2 = orb.detectAndCompute(img2, None)\n",
    "\n",
    "    # Create BFMatcher object\n",
    "    bf = cv2.BFMatcher(cv2.NORM_HAMMING, crossCheck=True)\n",
    "\n",
    "    # Match descriptors\n",
    "    matches = bf.match(des1, des2)\n",
    "\n",
    "    # Sort them in the order of their distance\n",
    "    sorted_matches = sorted(matches, key=lambda x: x.distance)\n",
    "\n",
    "    # Return the top N matches\n",
    "    return kp1, kp2, sorted_matches[:30]\n"
   ]
  },
  {
   "cell_type": "code",
   "execution_count": 24,
   "id": "c9532fb9-2223-4425-8419-fd6b514449dd",
   "metadata": {},
   "outputs": [],
   "source": [
    "def calculate_disparity(kp1, kp2, matches):\n",
    "    \"\"\"Calculate average disparity between matched keypoints.\"\"\"\n",
    "    disparities = []\n",
    "    for match in matches:\n",
    "        # Query index is index in kp1, train index is index in kp2\n",
    "        x1, x2 = kp1[match.queryIdx].pt[0], kp2[match.trainIdx].pt[0]\n",
    "        disparities.append(x1 - x2)\n",
    "    return np.mean(disparities)\n"
   ]
  },
  {
   "cell_type": "code",
   "execution_count": 25,
   "id": "35f48cbe-e19b-486b-afa6-a29f04021e7c",
   "metadata": {},
   "outputs": [],
   "source": [
    "def compute_depth(focal_length, baseline, disparity):\n",
    "    \"\"\"Compute the depth based on the disparity.\"\"\"\n",
    "    if disparity == 0:\n",
    "        return float('inf')  # Avoid division by zero\n",
    "    return (focal_length * baseline) / abs(disparity)"
   ]
  },
  {
   "cell_type": "code",
   "execution_count": 26,
   "id": "adb24ef4-4852-419f-aa0a-8095008a5e97",
   "metadata": {},
   "outputs": [
    {
     "name": "stdout",
     "output_type": "stream",
     "text": [
      "Average Disparity: 678.68 pixels\n",
      "Estimated Depth: 220.28 mm\n"
     ]
    }
   ],
   "source": [
    "# Parameters\n",
    "focal_length = 1495  # Focal length of the camera in pixels\n",
    "baseline = 100       # Distance between the two camera centers in mm\n",
    "\n",
    "# Load images\n",
    "img1, img2 = load_images('image1.jpg', 'image2.jpg')\n",
    "\n",
    "# Detect and match features\n",
    "keypoints1, keypoints2, matches = detect_and_match_features(img1, img2)\n",
    "\n",
    "# Calculate disparity\n",
    "average_disparity = calculate_disparity(keypoints1, keypoints2, matches)\n",
    "\n",
    "# Compute depth\n",
    "depth = compute_depth(focal_length, baseline, average_disparity)\n",
    "\n",
    "print(\"Average Disparity: {:.2f} pixels\".format(average_disparity))\n",
    "print(\"Estimated Depth: {:.2f} mm\".format(depth))\n",
    "\n",
    "# Visualization of matches\n",
    "img_matches = cv2.drawMatches(img1, keypoints1, img2, keypoints2, matches, None, flags=cv2.DrawMatchesFlags_NOT_DRAW_SINGLE_POINTS)\n",
    "cv2.imshow(\"Matches between images\", img_matches)\n",
    "cv2.waitKey(0)\n",
    "cv2.destroyAllWindows()"
   ]
  },
  {
   "cell_type": "markdown",
   "id": "79f7edb1-5d06-4529-a158-5727af320512",
   "metadata": {},
   "source": []
  },
  {
   "cell_type": "code",
   "execution_count": null,
   "id": "acea123e-107e-41da-80d8-9c0a6f39415c",
   "metadata": {},
   "outputs": [],
   "source": []
  },
  {
   "cell_type": "code",
   "execution_count": null,
   "id": "f56313f4-db1f-4788-85ce-1f5e31dcd5f2",
   "metadata": {},
   "outputs": [],
   "source": []
  }
 ],
 "metadata": {
  "kernelspec": {
   "display_name": "Python 3 (ipykernel)",
   "language": "python",
   "name": "python3"
  },
  "language_info": {
   "codemirror_mode": {
    "name": "ipython",
    "version": 3
   },
   "file_extension": ".py",
   "mimetype": "text/x-python",
   "name": "python",
   "nbconvert_exporter": "python",
   "pygments_lexer": "ipython3",
   "version": "3.11.7"
  }
 },
 "nbformat": 4,
 "nbformat_minor": 5
}
